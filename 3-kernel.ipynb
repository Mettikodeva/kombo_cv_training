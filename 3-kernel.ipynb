{
 "cells": [
  {
   "cell_type": "code",
   "execution_count": 1,
   "metadata": {},
   "outputs": [],
   "source": [
    "# !pip install opencv-contrib-python\n"
   ]
  },
  {
   "cell_type": "code",
   "execution_count": 2,
   "metadata": {},
   "outputs": [],
   "source": [
    "\n",
    "import cv2\n",
    "import numpy as np\n"
   ]
  },
  {
   "cell_type": "code",
   "execution_count": 88,
   "metadata": {},
   "outputs": [],
   "source": [
    "\n",
    "# box filter\n",
    "kernel = np.ones((5,5),np.float32)\n",
    "kernel = kernel/30\n",
    "k_size = 3"
   ]
  },
  {
   "cell_type": "code",
   "execution_count": null,
   "metadata": {},
   "outputs": [],
   "source": []
  },
  {
   "cell_type": "code",
   "execution_count": 79,
   "metadata": {},
   "outputs": [],
   "source": [
    "img = cv2.imread(\"zebra.jpg\")\n",
    "img = cv2.resize(img,(360,360))"
   ]
  },
  {
   "cell_type": "code",
   "execution_count": 80,
   "metadata": {},
   "outputs": [],
   "source": [
    "def ProcessKernel(arr1,kernel):\n",
    "    h,w = kernel.shape\n",
    "    sum = 0\n",
    "    for i in range(h):\n",
    "        for j in range(w):\n",
    "            sum += arr1[i,j]*kernel[i,j]\n",
    "    return sum"
   ]
  },
  {
   "cell_type": "code",
   "execution_count": 93,
   "metadata": {},
   "outputs": [],
   "source": [
    "from copy import deepcopy\n",
    "new_img = deepcopy(img)\n",
    "h,w,d = img.shape   \n",
    "\n",
    "img_convolution = cv2.filter2D(new_img,-1,kernel)"
   ]
  },
  {
   "cell_type": "code",
   "execution_count": 71,
   "metadata": {},
   "outputs": [],
   "source": [
    "from copy import deepcopy\n",
    "new_img = deepcopy(img)\n",
    "h,w,d = img.shape\n",
    "# print(w,h,d)\n",
    "img_convolution = np.zeros_like(new_img)\n",
    "# print(img_convolution[0][1].shape)\n",
    "for i in range(w-k_size-1):\n",
    "    # print(\"i\",i)\"\"\n",
    "    for j in range(h-k_size-1):\n",
    "        # print(\"j\",j)\n",
    "        for k in range(d):\n",
    "            # print(new_img[j:j+k_size][i:i+k_size][0])\n",
    "            img_convolution[j][i][k] = ProcessKernel(new_img[j:j+k_size,i:i+k_size][k],kernel)\n"
   ]
  },
  {
   "cell_type": "code",
   "execution_count": 94,
   "metadata": {},
   "outputs": [],
   "source": [
    "cv2.imshow(\"img\",img_convolution)\n",
    "cv2.waitKey(0)\n",
    "cv2.destroyAllWindows()\n",
    "cv2.imshow(\"img\",img)\n",
    "cv2.waitKey(0)\n",
    "cv2.destroyAllWindows()"
   ]
  },
  {
   "cell_type": "code",
   "execution_count": null,
   "metadata": {},
   "outputs": [],
   "source": []
  },
  {
   "cell_type": "code",
   "execution_count": null,
   "metadata": {},
   "outputs": [],
   "source": []
  }
 ],
 "metadata": {
  "kernelspec": {
   "display_name": ".venv",
   "language": "python",
   "name": "python3"
  },
  "language_info": {
   "codemirror_mode": {
    "name": "ipython",
    "version": 3
   },
   "file_extension": ".py",
   "mimetype": "text/x-python",
   "name": "python",
   "nbconvert_exporter": "python",
   "pygments_lexer": "ipython3",
   "version": "3.10.12"
  }
 },
 "nbformat": 4,
 "nbformat_minor": 2
}
